{
 "cells": [
  {
   "cell_type": "markdown",
   "id": "f958ae38",
   "metadata": {},
   "source": [
    "# Daily Weather Update"
   ]
  },
  {
   "cell_type": "code",
   "execution_count": null,
   "id": "53e87d01",
   "metadata": {},
   "outputs": [],
   "source": [
    "import requests\n",
    "import json\n",
    "api_key = \"1659cf5477bd0a121c844691d4bd9e81\"\n",
    "city='bangalore'\n",
    "url = 'https://api.openweathermap.org/data/2.5/weather?q=%s&appid=%s&units=metric'% (city, api_key)\n",
    "response = requests.get(url)\n",
    "data = json.loads(response.text)\n",
    "f = '%.2f'%(((int(data['main']['temp']))*1.8)+32)\n",
    "import pywhatkit\n",
    "d = str(data['weather'])\n",
    "#print(data['weather'])\n",
    "d1 = d[13:-16]\n",
    "#print(d1)\n",
    "#print(data['main']['temp'])\n",
    "x = (\" the temperature in {} is \".format(city)+str(data[\"main\"][\"temp\"])+' C'+' or'+' '+str(f)+' F')\n",
    "print(d1)\n",
    "print(x)\n",
    "pywhatkit.sendwhatmsg('+919265887102',d1+ x,7,30)"
   ]
  }
 ],
 "metadata": {
  "kernelspec": {
   "display_name": "Python 3 (ipykernel)",
   "language": "python",
   "name": "python3"
  },
  "language_info": {
   "codemirror_mode": {
    "name": "ipython",
    "version": 3
   },
   "file_extension": ".py",
   "mimetype": "text/x-python",
   "name": "python",
   "nbconvert_exporter": "python",
   "pygments_lexer": "ipython3",
   "version": "3.9.13"
  }
 },
 "nbformat": 4,
 "nbformat_minor": 5
}
